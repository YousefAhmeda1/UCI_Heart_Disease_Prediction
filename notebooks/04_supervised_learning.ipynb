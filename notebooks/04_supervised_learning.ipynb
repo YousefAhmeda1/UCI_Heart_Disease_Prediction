{
 "cells": [
  {
   "cell_type": "code",
   "execution_count": 1,
   "id": "d423d4c4",
   "metadata": {},
   "outputs": [],
   "source": [
    "import pickle as pk\n",
    "import seaborn as sns\n",
    "import pandas as pd\n",
    "import numpy as np\n",
    "import matplotlib.pyplot as plt\n",
    "from sklearn.preprocessing import StandardScaler\n",
    "from sklearn.linear_model import LogisticRegression\n",
    "from sklearn.svm import LinearSVC\n",
    "from sklearn.tree import DecisionTreeClassifier\n",
    "from sklearn.ensemble import RandomForestClassifier\n",
    "from sklearn.model_selection import train_test_split\n",
    "from sklearn.metrics import confusion_matrix,classification_report,accuracy_score"
   ]
  },
  {
   "cell_type": "code",
   "execution_count": 2,
   "id": "79bef8b0",
   "metadata": {},
   "outputs": [
    {
     "data": {
      "text/html": [
       "<div>\n",
       "<style scoped>\n",
       "    .dataframe tbody tr th:only-of-type {\n",
       "        vertical-align: middle;\n",
       "    }\n",
       "\n",
       "    .dataframe tbody tr th {\n",
       "        vertical-align: top;\n",
       "    }\n",
       "\n",
       "    .dataframe thead th {\n",
       "        text-align: right;\n",
       "    }\n",
       "</style>\n",
       "<table border=\"1\" class=\"dataframe\">\n",
       "  <thead>\n",
       "    <tr style=\"text-align: right;\">\n",
       "      <th></th>\n",
       "      <th>Unnamed: 0</th>\n",
       "      <th>age</th>\n",
       "      <th>sex</th>\n",
       "      <th>cp</th>\n",
       "      <th>fbs</th>\n",
       "      <th>restecg</th>\n",
       "      <th>thalach</th>\n",
       "      <th>exang</th>\n",
       "      <th>oldpeak</th>\n",
       "      <th>slope</th>\n",
       "      <th>ca</th>\n",
       "      <th>thal</th>\n",
       "      <th>num</th>\n",
       "    </tr>\n",
       "  </thead>\n",
       "  <tbody>\n",
       "    <tr>\n",
       "      <th>0</th>\n",
       "      <td>0</td>\n",
       "      <td>63</td>\n",
       "      <td>1</td>\n",
       "      <td>1</td>\n",
       "      <td>1</td>\n",
       "      <td>2</td>\n",
       "      <td>150</td>\n",
       "      <td>0</td>\n",
       "      <td>2.3</td>\n",
       "      <td>3</td>\n",
       "      <td>0.0</td>\n",
       "      <td>6.0</td>\n",
       "      <td>0</td>\n",
       "    </tr>\n",
       "    <tr>\n",
       "      <th>1</th>\n",
       "      <td>1</td>\n",
       "      <td>67</td>\n",
       "      <td>1</td>\n",
       "      <td>4</td>\n",
       "      <td>0</td>\n",
       "      <td>2</td>\n",
       "      <td>108</td>\n",
       "      <td>1</td>\n",
       "      <td>1.5</td>\n",
       "      <td>2</td>\n",
       "      <td>3.0</td>\n",
       "      <td>3.0</td>\n",
       "      <td>1</td>\n",
       "    </tr>\n",
       "    <tr>\n",
       "      <th>2</th>\n",
       "      <td>2</td>\n",
       "      <td>67</td>\n",
       "      <td>1</td>\n",
       "      <td>4</td>\n",
       "      <td>0</td>\n",
       "      <td>2</td>\n",
       "      <td>129</td>\n",
       "      <td>1</td>\n",
       "      <td>2.6</td>\n",
       "      <td>2</td>\n",
       "      <td>2.0</td>\n",
       "      <td>7.0</td>\n",
       "      <td>1</td>\n",
       "    </tr>\n",
       "    <tr>\n",
       "      <th>3</th>\n",
       "      <td>3</td>\n",
       "      <td>37</td>\n",
       "      <td>1</td>\n",
       "      <td>3</td>\n",
       "      <td>0</td>\n",
       "      <td>0</td>\n",
       "      <td>187</td>\n",
       "      <td>0</td>\n",
       "      <td>3.5</td>\n",
       "      <td>3</td>\n",
       "      <td>0.0</td>\n",
       "      <td>3.0</td>\n",
       "      <td>0</td>\n",
       "    </tr>\n",
       "    <tr>\n",
       "      <th>4</th>\n",
       "      <td>4</td>\n",
       "      <td>41</td>\n",
       "      <td>0</td>\n",
       "      <td>2</td>\n",
       "      <td>0</td>\n",
       "      <td>2</td>\n",
       "      <td>172</td>\n",
       "      <td>0</td>\n",
       "      <td>1.4</td>\n",
       "      <td>1</td>\n",
       "      <td>0.0</td>\n",
       "      <td>3.0</td>\n",
       "      <td>0</td>\n",
       "    </tr>\n",
       "  </tbody>\n",
       "</table>\n",
       "</div>"
      ],
      "text/plain": [
       "   Unnamed: 0  age  sex  cp  fbs  restecg  thalach  exang  oldpeak  slope  \\\n",
       "0           0   63    1   1    1        2      150      0      2.3      3   \n",
       "1           1   67    1   4    0        2      108      1      1.5      2   \n",
       "2           2   67    1   4    0        2      129      1      2.6      2   \n",
       "3           3   37    1   3    0        0      187      0      3.5      3   \n",
       "4           4   41    0   2    0        2      172      0      1.4      1   \n",
       "\n",
       "    ca  thal  num  \n",
       "0  0.0   6.0    0  \n",
       "1  3.0   3.0    1  \n",
       "2  2.0   7.0    1  \n",
       "3  0.0   3.0    0  \n",
       "4  0.0   3.0    0  "
      ]
     },
     "execution_count": 2,
     "metadata": {},
     "output_type": "execute_result"
    }
   ],
   "source": [
    "DataSet = pd.read_csv(\"selected_features.csv\")\n",
    "DataSet.head()"
   ]
  },
  {
   "cell_type": "markdown",
   "id": "71503f05",
   "metadata": {},
   "source": [
    "This number coulmn can not be dropped and i dont know why and I dont care if I am being Honest"
   ]
  },
  {
   "cell_type": "code",
   "execution_count": 3,
   "id": "6e1503e4",
   "metadata": {},
   "outputs": [
    {
     "name": "stdout",
     "output_type": "stream",
     "text": [
      "Scores List:\n",
      "\n",
      " Descision Tree = 0.7333, Logistic Regression = 0.9000 , Random Forest = 0.8833 and SVM = 0.8833\n"
     ]
    },
    {
     "data": {
      "text/plain": [
       "'              precision    recall  f1-score   support\\n\\n           0       0.89      0.94      0.91        34\\n           1       0.92      0.85      0.88        26\\n\\n    accuracy                           0.90        60\\n   macro avg       0.90      0.89      0.90        60\\nweighted avg       0.90      0.90      0.90        60\\n'"
      ]
     },
     "execution_count": 3,
     "metadata": {},
     "output_type": "execute_result"
    },
    {
     "data": {
      "image/png": "[encoded data removed]",
      "text/plain": [
       "<Figure size 640x480 with 2 Axes>"
      ]
     },
     "metadata": {},
     "output_type": "display_data"
    }
   ],
   "source": [
    "X = DataSet.iloc[:,1:12] # Drop the unnamed coulmn  \n",
    "y = DataSet.iloc[:,12]\n",
    "X_scaled = StandardScaler().fit_transform(X)\n",
    "# tarin test split\n",
    "X_train,X_test,y_train,y_test = train_test_split(X_scaled,y,random_state=32,test_size=0.2)\n",
    "\n",
    "max_iter = 50\n",
    "\n",
    "# Create 4 baseline models\n",
    "dt = DecisionTreeClassifier(random_state=32,criterion='entropy')\n",
    "dt.fit(X_train,y_train)\n",
    "\n",
    "LogReg = LogisticRegression(random_state=32,max_iter=max_iter)\n",
    "LogReg.fit(X_train,y_train)\n",
    "\n",
    "svm = LinearSVC(random_state=32,max_iter=max_iter)\n",
    "svm.fit(X_train,y_train)\n",
    "\n",
    "forest = RandomForestClassifier(random_state=32,criterion='entropy')\n",
    "forest.fit(X_train,y_train)\n",
    "\n",
    "# Making predictions of the four models\n",
    "dt_pred = dt.predict(X_test)\n",
    "\n",
    "LogReg_pred = LogReg.predict(X_test)\n",
    "\n",
    "svm_pred = svm.predict(X_test)\n",
    "\n",
    "forest_pred = forest.predict(X_test)\n",
    "\n",
    "# Evaulate the four Baselines\n",
    "dt_score = accuracy_score(y_test,dt_pred)\n",
    "\n",
    "LogReg_score = accuracy_score(y_test,LogReg_pred)\n",
    "\n",
    "svm_score = accuracy_score(y_test,svm_pred)\n",
    "\n",
    "forest_score = accuracy_score(y_test,forest_pred)\n",
    "\n",
    "print(\"Scores List:\\n\")\n",
    "print(f\" Descision Tree = {dt_score:.04f}, Logistic Regression = {LogReg_score:.04f} , Random Forest = {forest_score:0.4f} and SVM = {svm_score:0.04f}\")\n",
    "\n",
    "# Confusion Matrix of SVM\n",
    "Cm = confusion_matrix(y_test,LogReg_pred)\n",
    "sns.heatmap(Cm,cmap='viridis',annot=True,fmt='d')\n",
    "plt.title(\"Confusion Matrix of Random Forest\")\n",
    "plt.xlabel(\"True Data Points Values\")\n",
    "plt.ylabel(\"Predictions of Random Forest Model\")\n",
    "\n",
    "# Classification Report of Random Forest:\n",
    "report_log = classification_report(y_test,LogReg_pred)\n",
    "report_log\n"
   ]
  },
  {
   "cell_type": "code",
   "execution_count": 4,
   "id": "d5507b2e",
   "metadata": {},
   "outputs": [],
   "source": [
    "with open(\"evaluation_metrics.txt\", \"w\") as f:\n",
    "    f.write(\"Supervised Model Evaluation Metrics\\n\")\n",
    "    f.write(\"========================\\n\")\n",
    "    f.write(f\"Descision Tree = {dt_score:.04f},\\nLogistic Regression = {LogReg_score:.04f},\\nRandom Forest = {forest_score:0.4f}\\nSVM = {svm_score:0.04f}\")\n",
    "    f.write(\"\\nConfusion Matrix:\\n\")\n",
    "    f.write(str(Cm))\n",
    "    f.write(\"\\n\\nClassification Report:\\n\")\n",
    "    f.write(report_log)\n",
    "    f.write(\"-\"*100)"
   ]
  },
  {
   "cell_type": "markdown",
   "id": "b0e05f08",
   "metadata": {},
   "source": [
    "Observations:\n",
    "- Logistic Regression Model Has the Highest accuracy score (90%).\n",
    "- Descision Tree Model Has the Lowest accuracy score.\n",
    "- Will see if can increase the performance of Logisitic Regression Model.\n"
   ]
  }
 ],
 "metadata": {
  "kernelspec": {
   "display_name": "Python 3",
   "language": "python",
   "name": "python3"
  },
  "language_info": {
   "codemirror_mode": {
    "name": "ipython",
    "version": 3
   },
   "file_extension": ".py",
   "mimetype": "text/x-python",
   "name": "python",
   "nbconvert_exporter": "python",
   "pygments_lexer": "ipython3",
   "version": "3.13.7"
  }
 },
 "nbformat": 4,
 "nbformat_minor": 5
}
