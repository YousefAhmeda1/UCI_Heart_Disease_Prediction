{
 "cells": [
  {
   "cell_type": "code",
   "execution_count": 1,
   "id": "40fe97ec",
   "metadata": {},
   "outputs": [],
   "source": [
    "import matplotlib.pyplot as plt\n",
    "import pickle as pk\n",
    "from sklearn.model_selection import train_test_split, GridSearchCV, StratifiedKFold\n",
    "from sklearn.preprocessing import StandardScaler\n",
    "from sklearn.ensemble import RandomForestClassifier\n",
    "from sklearn.linear_model import LogisticRegression\n",
    "from xgboost import XGBClassifier\n",
    "from sklearn.pipeline import Pipeline\n",
    "from sklearn.decomposition import PCA\n",
    "import matplotlib.pyplot as plt\n",
    "import seaborn as sns\n",
    "import pandas as pd\n",
    "from sklearn.metrics import confusion_matrix, classification_report,accuracy_score\n",
    "\n"
   ]
  },
  {
   "cell_type": "code",
   "execution_count": 2,
   "id": "6afbfb83",
   "metadata": {},
   "outputs": [
    {
     "name": "stdout",
     "output_type": "stream",
     "text": [
      "     age  sex  cp  fbs  restecg  thalach  exang  oldpeak  slope   ca  thal\n",
      "0     63    1   1    1        2      150      0      2.3      3  0.0   6.0\n",
      "1     67    1   4    0        2      108      1      1.5      2  3.0   3.0\n",
      "2     67    1   4    0        2      129      1      2.6      2  2.0   7.0\n",
      "3     37    1   3    0        0      187      0      3.5      3  0.0   3.0\n",
      "4     41    0   2    0        2      172      0      1.4      1  0.0   3.0\n",
      "..   ...  ...  ..  ...      ...      ...    ...      ...    ...  ...   ...\n",
      "292   57    0   4    0        0      123      1      0.2      2  0.0   7.0\n",
      "293   45    1   1    0        0      132      0      1.2      2  0.0   7.0\n",
      "294   68    1   4    1        0      141      0      3.4      2  2.0   7.0\n",
      "295   57    1   4    0        0      115      1      1.2      2  1.0   7.0\n",
      "296   57    0   2    0        2      174      0      0.0      2  1.0   3.0\n",
      "\n",
      "[297 rows x 11 columns]\n",
      "best classifier__max_iter = 50\n",
      "best pca__n_components = 2\n",
      "\n",
      " Test Score = 0.92\n"
     ]
    },
    {
     "data": {
      "image/png": "[encoded data removed]",
      "text/plain": [
       "<Figure size 640x480 with 2 Axes>"
      ]
     },
     "metadata": {},
     "output_type": "display_data"
    },
    {
     "data": {
      "text/plain": [
       "'              precision    recall  f1-score   support\\n\\n           0       0.94      0.92      0.93        36\\n           1       0.88      0.92      0.90        24\\n\\n    accuracy                           0.92        60\\n   macro avg       0.91      0.92      0.91        60\\nweighted avg       0.92      0.92      0.92        60\\n'"
      ]
     },
     "execution_count": 2,
     "metadata": {},
     "output_type": "execute_result"
    }
   ],
   "source": [
    "Data = pd.read_csv(\"selected_features.csv\")\n",
    "X = Data.iloc[:,1:12]\n",
    "y = Data.iloc[:,12]\n",
    "seed = 42\n",
    "print(X)\n",
    "# Splitting\n",
    "X_train,X_test,y_train,y_test = train_test_split(X,y,random_state=seed,test_size=0.2)\n",
    "\n",
    "# Create a pipeline with no params in it \n",
    "## Study note : Pipeline takes a list of tuples leave everything empty\n",
    "pipe = Pipeline([\n",
    "    ('scaler', StandardScaler()),\n",
    "    ('pca',PCA()),\n",
    "    ('classifier', LogisticRegression(solver='liblinear'))\n",
    "])\n",
    "\n",
    "# Parameter Grid\n",
    "params = {\n",
    "    'pca__n_components' : [2,3],\n",
    "    'classifier__max_iter': [50,100,200]\n",
    "}\n",
    "\n",
    "# Cross Validation \n",
    "Cv = StratifiedKFold(n_splits=5, shuffle=True, random_state = seed)\n",
    "\n",
    "best_model = GridSearchCV(\n",
    "    estimator=pipe,\n",
    "    param_grid = params,\n",
    "    scoring = 'accuracy',\n",
    "    verbose = 0 # show the time of computation and score\n",
    ")\n",
    "\n",
    "# Create, Train and Make Predictions\n",
    "best_model.fit(X_train,y_train)\n",
    "y_pred = best_model.predict(X_test)\n",
    "test_score = best_model.score(X_test,y_test)\n",
    "\n",
    "for key,value in best_model.best_params_.items(): ## best_model.best_params_ returns a dictionary\n",
    "    print(f\"best {key} = {value}\")\n",
    "\n",
    "print(f\"\\n Test Score = {test_score:.02f}\")\n",
    "\n",
    "# Generate the confusion matrix for RandomForest\n",
    "conf_matrix = confusion_matrix(y_test, y_pred)\n",
    "\n",
    "# Create a single plot for the confusion matrix\n",
    "plt.figure()\n",
    "sns.heatmap(conf_matrix, annot=True, cmap='Blues', fmt='d')\n",
    "\n",
    "# Set the title and labels\n",
    "plt.title('Confusion Matrix of Random Forest')\n",
    "plt.xlabel('Predicted')\n",
    "plt.ylabel('Actual')\n",
    "# Show the plot\n",
    "plt.tight_layout()\n",
    "plt.show()\n",
    "\n",
    "# Classification Report\n",
    "best_model_report = classification_report(y_true=y_test,y_pred=y_pred)\n",
    "best_model_report"
   ]
  },
  {
   "cell_type": "code",
   "execution_count": 3,
   "id": "085740f4",
   "metadata": {},
   "outputs": [],
   "source": [
    "with open(\"evaluation_metrics.txt\", \"a\") as f:\n",
    "    f.write(\"\\nHyperparameter Tunning Supervised Model Evaluation Metrics\\n\")\n",
    "    f.write(\"========================\\n\")\n",
    "    f.write(f\"Test Score = {test_score:.02f}\")\n",
    "    f.write(\"\\nConfusion Matrix:\\n\")\n",
    "    f.write(str(conf_matrix))\n",
    "    f.write(\"\\n\\nClassification Report:\\n\")\n",
    "    f.write(best_model_report)\n",
    "    f.write(\"-\"*100)"
   ]
  },
  {
   "cell_type": "markdown",
   "id": "42c2a3c7",
   "metadata": {},
   "source": [
    "- We used logistic as it gave us the best score from supervised aspects among the others\n",
    "- We reached 92% this is a slight improvement than before"
   ]
  },
  {
   "cell_type": "markdown",
   "id": "0c0153c7",
   "metadata": {},
   "source": [
    "Creating Final Model in pickle format"
   ]
  },
  {
   "cell_type": "code",
   "execution_count": 4,
   "id": "fab741b5",
   "metadata": {},
   "outputs": [],
   "source": [
    "\n",
    "filename = 'final_model.pkl'\n",
    "pk.dump(best_model,open(filename,'wb')) # writing the model into filename final_model wb ---> write binary"
   ]
  }
 ],
 "metadata": {
  "kernelspec": {
   "display_name": "Python 3",
   "language": "python",
   "name": "python3"
  },
  "language_info": {
   "codemirror_mode": {
    "name": "ipython",
    "version": 3
   },
   "file_extension": ".py",
   "mimetype": "text/x-python",
   "name": "python",
   "nbconvert_exporter": "python",
   "pygments_lexer": "ipython3",
   "version": "3.13.7"
  }
 },
 "nbformat": 4,
 "nbformat_minor": 5
}
